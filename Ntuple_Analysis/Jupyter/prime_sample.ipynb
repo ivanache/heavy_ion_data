{
 "cells": [
  {
   "cell_type": "code",
   "execution_count": 1,
   "metadata": {},
   "outputs": [],
   "source": [
    "from iminuit import Minuit, describe, Struct"
   ]
  },
  {
   "cell_type": "markdown",
   "metadata": {
    "collapsed": true
   },
   "source": [
    "# Import packages\n"
   ]
  },
  {
   "cell_type": "code",
   "execution_count": 2,
   "metadata": {},
   "outputs": [
    {
     "name": "stdout",
     "output_type": "stream",
     "text": [
      "Welcome to JupyROOT 6.10/08\n"
     ]
    },
    {
     "ename": "ImportError",
     "evalue": "No module named root_pandas",
     "output_type": "error",
     "traceback": [
      "\u001b[0;31m---------------------------------------------------------------------------\u001b[0m",
      "\u001b[0;31mImportError\u001b[0m                               Traceback (most recent call last)",
      "\u001b[0;32m<ipython-input-2-ae8fdb2bccdb>\u001b[0m in \u001b[0;36m<module>\u001b[0;34m()\u001b[0m\n\u001b[1;32m      5\u001b[0m \u001b[0;32mimport\u001b[0m \u001b[0mROOT\u001b[0m\u001b[0;34m\u001b[0m\u001b[0m\n\u001b[1;32m      6\u001b[0m \u001b[0;32mimport\u001b[0m \u001b[0mpandas\u001b[0m \u001b[0;32mas\u001b[0m \u001b[0mpd\u001b[0m\u001b[0;34m\u001b[0m\u001b[0m\n\u001b[0;32m----> 7\u001b[0;31m \u001b[0;32mfrom\u001b[0m \u001b[0mroot_pandas\u001b[0m \u001b[0;32mimport\u001b[0m \u001b[0mread_root\u001b[0m\u001b[0;34m\u001b[0m\u001b[0m\n\u001b[0m\u001b[1;32m      8\u001b[0m \u001b[0;32mfrom\u001b[0m \u001b[0mmatplotlib\u001b[0m\u001b[0;34m.\u001b[0m\u001b[0mticker\u001b[0m \u001b[0;32mimport\u001b[0m \u001b[0mNullFormatter\u001b[0m\u001b[0;34m\u001b[0m\u001b[0m\n\u001b[1;32m      9\u001b[0m \u001b[0;32mimport\u001b[0m \u001b[0mmatplotlib\u001b[0m \u001b[0;32mas\u001b[0m \u001b[0mmpl\u001b[0m\u001b[0;34m\u001b[0m\u001b[0m\n",
      "\u001b[0;32m/opt/local/Library/Frameworks/Python.framework/Versions/2.7/lib/python2.7/site-packages/ROOT.pyc\u001b[0m in \u001b[0;36m_importhook\u001b[0;34m(name, *args, **kwds)\u001b[0m\n\u001b[1;32m    316\u001b[0m       \u001b[0;32mexcept\u001b[0m \u001b[0mException\u001b[0m\u001b[0;34m:\u001b[0m\u001b[0;34m\u001b[0m\u001b[0m\n\u001b[1;32m    317\u001b[0m          \u001b[0;32mpass\u001b[0m\u001b[0;34m\u001b[0m\u001b[0m\n\u001b[0;32m--> 318\u001b[0;31m    \u001b[0;32mreturn\u001b[0m \u001b[0m_orig_ihook\u001b[0m\u001b[0;34m(\u001b[0m \u001b[0mname\u001b[0m\u001b[0;34m,\u001b[0m \u001b[0;34m*\u001b[0m\u001b[0margs\u001b[0m\u001b[0;34m,\u001b[0m \u001b[0;34m**\u001b[0m\u001b[0mkwds\u001b[0m \u001b[0;34m)\u001b[0m\u001b[0;34m\u001b[0m\u001b[0m\n\u001b[0m\u001b[1;32m    319\u001b[0m \u001b[0;34m\u001b[0m\u001b[0m\n\u001b[1;32m    320\u001b[0m \u001b[0m__builtin__\u001b[0m\u001b[0;34m.\u001b[0m\u001b[0m__import__\u001b[0m \u001b[0;34m=\u001b[0m \u001b[0m_importhook\u001b[0m\u001b[0;34m\u001b[0m\u001b[0m\n",
      "\u001b[0;31mImportError\u001b[0m: No module named root_pandas"
     ]
    }
   ],
   "source": [
    "import matplotlib.pyplot as plt\n",
    "import numpy as np\n",
    "import sys\n",
    "import time\n",
    "import ROOT\n",
    "import pandas as pd\n",
    "from root_pandas import read_root\n",
    "from matplotlib.ticker import NullFormatter\n",
    "import matplotlib as mpl\n",
    "mpl.rcParams.update({'font.size': 16})\n",
    "mpl.rcParams.update({'xtick.labelsize': 16}) \n",
    "mpl.rcParams.update({'ytick.labelsize': 16})"
   ]
  },
  {
   "cell_type": "markdown",
   "metadata": {
    "collapsed": true
   },
   "source": [
    "# Defines how to dataframe from ROOT TTree"
   ]
  },
  {
   "cell_type": "code",
   "execution_count": 4,
   "metadata": {},
   "outputs": [],
   "source": [
    "def getData(inputFiles):\n",
    "    \n",
    "    cols = []\n",
    "    cols.append('cluster_pt')\n",
    "    cols.append('cluster_eta')\n",
    "    cols.append('cluster_phi')\n",
    "    cols.append('cluster_e_cross')\n",
    "    cols.append('cluster_e')\n",
    "    cols.append('cluster_ncell')\n",
    "    cols.append('cluster_NN1')\n",
    "    cols.append('cluster_NN2')\n",
    "    cols.append('cluster_Lambda')\n",
    "    \n",
    "    dataframes = []\n",
    "    for inputFilename in inputFiles:\n",
    "        start = time.time()\n",
    "        df = read_root(inputFilename, columns=cols,flatten=cols)\n",
    "        dataframes.append(df)\n",
    "        end = time.time()\n",
    "        print 'Processed', inputFilename, 'in',  end-start, 'seconds'\n",
    "    return pd.concat([x for x in dataframes])"
   ]
  },
  {
   "cell_type": "markdown",
   "metadata": {},
   "source": [
    "# Gets dataframes from dataset(s)"
   ]
  },
  {
   "cell_type": "code",
   "execution_count": 9,
   "metadata": {},
   "outputs": [
    {
     "ename": "NameError",
     "evalue": "global name 'read_root' is not defined",
     "output_type": "error",
     "traceback": [
      "\u001b[0;31m\u001b[0m",
      "\u001b[0;31mNameError\u001b[0mTraceback (most recent call last)",
      "\u001b[0;32m<ipython-input-9-d58acdd7ebd8>\u001b[0m in \u001b[0;36m<module>\u001b[0;34m()\u001b[0m\n\u001b[1;32m      2\u001b[0m \u001b[0mmcFiles\u001b[0m \u001b[0;34m=\u001b[0m \u001b[0;34m[\u001b[0m\u001b[0;34m\"16c3b_small.root\"\u001b[0m\u001b[0;34m]\u001b[0m\u001b[0;31m#[\"16c3b_small.root\"]\u001b[0m\u001b[0;34m\u001b[0m\u001b[0m\n\u001b[1;32m      3\u001b[0m \u001b[0mdataFiles\u001b[0m \u001b[0;34m=\u001b[0m \u001b[0;34m[\u001b[0m\u001b[0;34m\"13d_small.root\"\u001b[0m\u001b[0;34m]\u001b[0m\u001b[0;31m#,\"13e_small.root\",'13e_small.root']\u001b[0m\u001b[0;34m\u001b[0m\u001b[0m\n\u001b[0;32m----> 4\u001b[0;31m \u001b[0mmcHists\u001b[0m \u001b[0;34m=\u001b[0m \u001b[0mgetData\u001b[0m\u001b[0;34m(\u001b[0m\u001b[0mmcFiles\u001b[0m\u001b[0;34m)\u001b[0m\u001b[0;34m\u001b[0m\u001b[0m\n\u001b[0m\u001b[1;32m      5\u001b[0m \u001b[0mdataHists\u001b[0m \u001b[0;34m=\u001b[0m \u001b[0mgetData\u001b[0m\u001b[0;34m(\u001b[0m\u001b[0mdataFiles\u001b[0m\u001b[0;34m)\u001b[0m\u001b[0;34m\u001b[0m\u001b[0m\n",
      "\u001b[0;32m<ipython-input-5-a85c977c8585>\u001b[0m in \u001b[0;36mgetData\u001b[0;34m(inputFiles)\u001b[0m\n\u001b[1;32m     15\u001b[0m     \u001b[0;32mfor\u001b[0m \u001b[0minputFilename\u001b[0m \u001b[0;32min\u001b[0m \u001b[0minputFiles\u001b[0m\u001b[0;34m:\u001b[0m\u001b[0;34m\u001b[0m\u001b[0m\n\u001b[1;32m     16\u001b[0m         \u001b[0mstart\u001b[0m \u001b[0;34m=\u001b[0m \u001b[0mtime\u001b[0m\u001b[0;34m.\u001b[0m\u001b[0mtime\u001b[0m\u001b[0;34m(\u001b[0m\u001b[0;34m)\u001b[0m\u001b[0;34m\u001b[0m\u001b[0m\n\u001b[0;32m---> 17\u001b[0;31m         \u001b[0mdf\u001b[0m \u001b[0;34m=\u001b[0m \u001b[0mread_root\u001b[0m\u001b[0;34m(\u001b[0m\u001b[0minputFilename\u001b[0m\u001b[0;34m,\u001b[0m \u001b[0mcolumns\u001b[0m\u001b[0;34m=\u001b[0m\u001b[0mcols\u001b[0m\u001b[0;34m,\u001b[0m\u001b[0mflatten\u001b[0m\u001b[0;34m=\u001b[0m\u001b[0mcols\u001b[0m\u001b[0;34m)\u001b[0m\u001b[0;34m\u001b[0m\u001b[0m\n\u001b[0m\u001b[1;32m     18\u001b[0m         \u001b[0mdataframes\u001b[0m\u001b[0;34m.\u001b[0m\u001b[0mappend\u001b[0m\u001b[0;34m(\u001b[0m\u001b[0mdf\u001b[0m\u001b[0;34m)\u001b[0m\u001b[0;34m\u001b[0m\u001b[0m\n\u001b[1;32m     19\u001b[0m         \u001b[0mend\u001b[0m \u001b[0;34m=\u001b[0m \u001b[0mtime\u001b[0m\u001b[0;34m.\u001b[0m\u001b[0mtime\u001b[0m\u001b[0;34m(\u001b[0m\u001b[0;34m)\u001b[0m\u001b[0;34m\u001b[0m\u001b[0m\n",
      "\u001b[0;31mNameError\u001b[0m: global name 'read_root' is not defined"
     ]
    }
   ],
   "source": [
    "# NTuples found in /project/projectdirs/alice/NTuples\n",
    "mcFiles = [\"16c3b_small.root\"]#[\"16c3b_small.root\"]\n",
    "dataFiles = [\"13d_small.root\"]#,\"13e_small.root\",'13e_small.root']\n",
    "mcHists = getData(mcFiles)\n",
    "dataHists = getData(dataFiles)"
   ]
  },
  {
   "cell_type": "markdown",
   "metadata": {},
   "source": [
    "# Define cuts"
   ]
  },
  {
   "cell_type": "code",
   "execution_count": 6,
   "metadata": {},
   "outputs": [],
   "source": [
    "def applyCut(inputDataframe, cut, text=None):\n",
    "    cutDataframe = inputDataframe.query(cut)\n",
    "    if text:\n",
    "        print text, cutDataframe.shape[0]\n",
    "    return cutDataframe"
   ]
  },
  {
   "cell_type": "code",
   "execution_count": 7,
   "metadata": {},
   "outputs": [],
   "source": [
    "def applyCuts(fullDataframe):  \n",
    "    fullDataframe.eval('cluster_ecross_over_e = cluster_e_cross/cluster_e', inplace=True)\n",
    "    \n",
    "    dataframe = fullDataframe\n",
    "    dataframe = applyCut(dataframe, 'cluster_pt>8.0', 'pt > 8 GeV:')\n",
    "    dataframe = applyCut(dataframe, 'cluster_ecross_over_e>0.05', 'ecross/e > 0.05:')\n",
    "    dataframe = applyCut(dataframe, 'cluster_NN1>0 and cluster_NN1<1.0')\n",
    "    dataframe = applyCut(dataframe, 'cluster_NN2>0 and cluster_NN2<1.0', 'NN1 and NN2 between 0 and 1:')\n",
    "    dataframe = applyCut(dataframe, 'cluster_ncell>2', 'ncell > 2:')\n",
    "    dataframe = applyCut(dataframe, 'cluster_Lambda<2.0', 'lambda < 2.0:')\n",
    "    return dataframe"
   ]
  },
  {
   "cell_type": "markdown",
   "metadata": {},
   "source": [
    "# Apply cuts"
   ]
  },
  {
   "cell_type": "code",
   "execution_count": 8,
   "metadata": {},
   "outputs": [
    {
     "ename": "NameError",
     "evalue": "name 'dataHists' is not defined",
     "output_type": "error",
     "traceback": [
      "\u001b[0;31m\u001b[0m",
      "\u001b[0;31mNameError\u001b[0mTraceback (most recent call last)",
      "\u001b[0;32m<ipython-input-8-f7ae505f9ad8>\u001b[0m in \u001b[0;36m<module>\u001b[0;34m()\u001b[0m\n\u001b[0;32m----> 1\u001b[0;31m \u001b[0mdataHists\u001b[0m \u001b[0;34m=\u001b[0m \u001b[0mapplyCuts\u001b[0m\u001b[0;34m(\u001b[0m\u001b[0mdataHists\u001b[0m\u001b[0;34m)\u001b[0m\u001b[0;34m\u001b[0m\u001b[0m\n\u001b[0m\u001b[1;32m      2\u001b[0m \u001b[0mmcHists\u001b[0m \u001b[0;34m=\u001b[0m \u001b[0mapplyCuts\u001b[0m\u001b[0;34m(\u001b[0m\u001b[0mmcHists\u001b[0m\u001b[0;34m)\u001b[0m\u001b[0;34m\u001b[0m\u001b[0m\n",
      "\u001b[0;31mNameError\u001b[0m: name 'dataHists' is not defined"
     ]
    }
   ],
   "source": [
    "dataHists = applyCuts(dataHists)\n",
    "mcHists = applyCuts(mcHists)"
   ]
  },
  {
   "cell_type": "markdown",
   "metadata": {},
   "source": [
    "# Define plotting"
   ]
  },
  {
   "cell_type": "code",
   "execution_count": null,
   "metadata": {},
   "outputs": [],
   "source": [
    "def plotcorr(histo,label,figname,nbins=100):\n",
    "    x = histo['cluster_NN2']\n",
    "    y = histo['cluster_Lambda']\n",
    "    nullfmt = NullFormatter()         # no labels\n",
    "    left, width = 0.1, 0.65\n",
    "    bottom, height = 0.1, 0.65\n",
    "    bottom_h = left_h = left + width + 0.04\n",
    "    rect_scatter = [left, bottom, width, height]\n",
    "    rect_histx = [left, bottom_h, width, 0.2]\n",
    "    rect_histy = [left_h, bottom, 0.2, height]\n",
    "    fig = plt.figure(1, figsize=(8, 8))\n",
    "    axScatter = plt.axes(rect_scatter)\n",
    "    axHistx = plt.axes(rect_histx)\n",
    "    axHisty = plt.axes(rect_histy)\n",
    "    axHistx.xaxis.set_major_formatter(nullfmt) #no labels\n",
    "    axHisty.yaxis.set_major_formatter(nullfmt)\n",
    "    hb = axScatter.hexbin(x, y, cmap='viridis') #gridsize=60\n",
    "    axScatter.plot((0, 1), (0.27, 0.27), 'r-',linestyle=':')\n",
    "    axScatter.plot((0.85, 0.85), (0, 1.0), 'r-',linestyle=':')\n",
    "    plt.text(0.22, 0.90,label, horizontalalignment='center',  verticalalignment='center', transform=axScatter.transAxes, bbox=dict(facecolor='white', alpha=0.75))\n",
    "    binwidth = 0.25\n",
    "    xymax = np.max([np.max(np.fabs(x)), np.max(np.fabs(y))])\n",
    "    lim = (int(xymax/binwidth) + 1) * binwidth\n",
    "    axScatter.set_xlim((0.0, 1.0))\n",
    "    axScatter.set_ylim((0.0, 1.0))\n",
    "    axScatter.set_xlabel('NN output')\n",
    "    axScatter.set_ylabel('Lambda')\n",
    "    yhist, xhist, patches = axHistx.hist(x,nbins, range=(0, 1.0)) #here it gets the NN histogram\n",
    "    xhist= np.delete(xhist,-1)\n",
    "    xhist = np.add( xhist, (xhist[1]-xhist[0])/2.0 )\n",
    "    yerrhist = np.sqrt(yhist)\n",
    "    xerrhist = np.full(len(yerrhist), (xhist[1]-xhist[0])/2.0)\n",
    "    axHisty.hist(y,nbins, range=(0.0,1.0), orientation='horizontal')\n",
    "    axHistx.set_xlim(axScatter.get_xlim())\n",
    "    axHisty.set_ylim(axScatter.get_ylim())\n",
    "    plt.show()\n",
    "    fig.savefig('../JupyterPNGOutput/'+figname+'.png', dpi=fig.dpi)\n",
    "    return yhist, xhist, yerrhist, xerrhist"
   ]
  },
  {
   "cell_type": "markdown",
   "metadata": {},
   "source": [
    "# Function to cut pt ranges"
   ]
  },
  {
   "cell_type": "code",
   "execution_count": null,
   "metadata": {},
   "outputs": [],
   "source": [
    "def cutptrange(data, ptmin, ptmax):\n",
    "    datacut = data\n",
    "    datacut = full.query('cluster_pt>%f and cluster_pt<%f' %(ptmin,ptmax))\n",
    "    return datacut"
   ]
  },
  {
   "cell_type": "markdown",
   "metadata": {},
   "source": [
    "# Define pt bins and plot"
   ]
  },
  {
   "cell_type": "code",
   "execution_count": null,
   "metadata": {},
   "outputs": [],
   "source": [
    "binedges = [18.0, 20.0]\n",
    "\n",
    "for ipt in range(len(binedges)-1):\n",
    "    ptmin = binedges[ipt]\n",
    "    ptmax = binedges[ipt+1]\n",
    "    hist= cutptrange(dataHists, ptmin, ptmax)\n",
    "    plotcorr(hist,'pPb data \\n %2.0f<pt<%2.0f GeV' %(ptmin,ptmax),'all_Data%2.0f_%2.0f' %(ptmin,ptmax))\n",
    "    ##dealing with MC\n",
    "    histMC = cutptrange(mcHists, ptmin, ptmax)\n",
    "    plotcorr(histMC,'Dijet MC \\n %2.0f<pT<%2.0f GeV' %(ptmin,ptmax),'all_MC_%2.0f_%2.0f' %(ptmin,ptmax))\n"
   ]
  }
 ],
 "metadata": {
  "kernelspec": {
   "display_name": "Python 2",
   "language": "python",
   "name": "python2"
  },
  "language_info": {
   "codemirror_mode": {
    "name": "ipython",
    "version": 2
   },
   "file_extension": ".py",
   "mimetype": "text/x-python",
   "name": "python",
   "nbconvert_exporter": "python",
   "pygments_lexer": "ipython2",
   "version": "2.7.14"
  }
 },
 "nbformat": 4,
 "nbformat_minor": 2
}
