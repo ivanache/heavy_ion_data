{
 "cells": [
  {
   "cell_type": "code",
   "execution_count": 3,
   "metadata": {},
   "outputs": [],
   "source": [
    "import ROOT\n",
    "from ROOT import TH1, TCanvas, TFile, TLatex, TLegend, TMath"
   ]
  },
  {
   "cell_type": "code",
   "execution_count": 6,
   "metadata": {},
   "outputs": [],
   "source": [
    "# Get the TFile\n",
    "outfile = TFile(\"13d_0GeVTrack_paired_0GeVTracks_Correlation_0_to_100.root\", \"READ\")\n",
    "\n",
    "#Get the histograms \n",
    "dpT = outfile.Get(\"clusjet_pT_diff;1\")\n",
    "dPhi = outfile.Get(\"dPhi;1\")\n",
    "dEta = outfile.Get()"
   ]
  },
  {
   "cell_type": "code",
   "execution_count": null,
   "metadata": {},
   "outputs": [],
   "source": []
  }
 ],
 "metadata": {
  "kernelspec": {
   "display_name": "Python 2",
   "language": "python",
   "name": "python2"
  },
  "language_info": {
   "codemirror_mode": {
    "name": "ipython",
    "version": 2
   },
   "file_extension": ".py",
   "mimetype": "text/x-python",
   "name": "python",
   "nbconvert_exporter": "python",
   "pygments_lexer": "ipython2",
   "version": "2.7.14"
  }
 },
 "nbformat": 4,
 "nbformat_minor": 2
}
