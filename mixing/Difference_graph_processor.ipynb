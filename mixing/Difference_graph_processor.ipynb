{
 "cells": [
  {
   "cell_type": "code",
   "execution_count": null,
   "metadata": {},
   "outputs": [],
   "source": []
  },
  {
   "cell_type": "code",
   "execution_count": 1,
   "metadata": {},
   "outputs": [
    {
     "name": "stdout",
     "output_type": "stream",
     "text": [
      "Welcome to JupyROOT 6.10/08\n"
     ]
    }
   ],
   "source": [
    "import ROOT\n",
    "from ROOT import TH1, TCanvas, TFile, TLatex, TLegend, TMath, TH1D\n",
    "import matplotlib.pyplot as plt"
   ]
  },
  {
   "cell_type": "code",
   "execution_count": 5,
   "metadata": {},
   "outputs": [],
   "source": [
    "# Get file\n",
    "pairedTrack = TFile(\"_17q_paired_17p_0GeVTracks_Correlation_0_to_300.root\", \"READ\")"
   ]
  },
  {
   "cell_type": "code",
   "execution_count": 12,
   "metadata": {},
   "outputs": [],
   "source": [
    "# Get histograms\n",
    "zVertexdiff = pairedTrack.Get(\"z_Vertices;1\")\n",
    "#zVertexdiff.Rebin(2)\n",
    "Multdiff = pairedTrack.Get(\"mult_Vertices;1\")\n",
    "\n",
    "ROOT.gStyle.SetOptStat(\"\")"
   ]
  },
  {
   "cell_type": "code",
   "execution_count": 13,
   "metadata": {},
   "outputs": [
    {
     "name": "stderr",
     "output_type": "stream",
     "text": [
      "Warning in <TCanvas::Constructor>: Deleting canvas with same name: c\n",
      "Info in <TCanvas::Print>: png file z_vertex_diffs.png has been created\n"
     ]
    },
    {
     "data": {
      "image/png": "[encoded data removed]",
      "text/plain": [
       "<IPython.core.display.Image object>"
      ]
     },
     "metadata": {},
     "output_type": "display_data"
    }
   ],
   "source": [
    "zVertexdiff.SetTitle(\"Mixed-event z-Vertex differences; z-Vertex (cm); Count\")\n",
    "zVertexdiff.GetXaxis().SetRangeUser(0, 5)\n",
    "zVertexdiff.GetYaxis().SetTitleOffset(1)\n",
    "zVertexdiff.GetYaxis().SetLabelSize(0.04)\n",
    "zVertexdiff.GetYaxis().SetTitleSize(0.05)\n",
    "zVertexdiff.GetXaxis().SetRangeUser(0, 20)\n",
    "zVertexdiff.SetLineColor(2)\n",
    "zVertexdiff.SetMarkerColor(1)\n",
    "zVertexdiff.SetMarkerStyle(20)\n",
    "\n",
    "c = TCanvas(\"c\", \"c\", 1000, 1000)\n",
    "zVertexdiff.Draw()\n",
    "c.Draw()\n",
    "c.SaveAs(\"z_vertex_diffs.png\")\n"
   ]
  },
  {
   "cell_type": "code",
   "execution_count": null,
   "metadata": {},
   "outputs": [],
   "source": [
    "c.Clear()\n",
    "Multdiff.SetTitle(\"Mixed-event Multiplicity differences; Multiplicity; Count\")\n",
    "Multdiff.GetXaxis().SetRangeUser(0, 100)\n",
    "Multdiff.GetYaxis().SetTitleOffset(1)\n",
    "Multdiff.GetYaxis().SetLabelSize(0.04)\n",
    "Multdiff.GetYaxis().SetTitleSize(0.05)\n",
    "Multdiff.GetXaxis().SetRangeUser(0, 400)\n",
    "Multdiff.SetLineColor(3)\n",
    "Multdiff.SetMarkerColor(1)\n",
    "Multdiff.SetMarkerStyle(20)\n",
    "\n",
    "#c = TCanvas(\"c\", \"c\", 1000, 1000)\n",
    "Multdiff.Draw()\n",
    "c.Draw()\n",
    "c.SaveAs(\"Multiplicity_diffs.png\")\n"
   ]
  },
  {
   "cell_type": "code",
   "execution_count": null,
   "metadata": {},
   "outputs": [],
   "source": [
    "# Qualitiative\n",
    "#z-vertex\n",
    "print zVertexdiff.Integral(zVertexdiff.GetXaxis().FindBin(0), zVertexdiff.GetXaxis().FindBin(25))\n",
    "print zVertexdiff.Integral(zVertexdiff.GetXaxis().FindBin(0), zVertexdiff.GetXaxis().FindBin(1.9))\n",
    "print zVertexdiff.Integral(zVertexdiff.GetXaxis().FindBin(2), zVertexdiff.GetXaxis().FindBin(25))\n",
    "\n",
    "print \"\\nFractions: z_diff > 2 cm\\n\"\n",
    "print zVertexdiff.Integral(zVertexdiff.GetXaxis().FindBin(2), zVertexdiff.GetXaxis().FindBin(25))/zVertexdiff.Integral(zVertexdiff.GetXaxis().FindBin(0), zVertexdiff.GetXaxis().FindBin(25))"
   ]
  },
  {
   "cell_type": "code",
   "execution_count": null,
   "metadata": {},
   "outputs": [],
   "source": [
    "print Multdiff.Integral(Multdiff.GetXaxis().FindBin(0), Multdiff.GetXaxis().FindBin(1281))\n",
    "print Multdiff.Integral(Multdiff.GetXaxis().FindBin(0), Multdiff.GetXaxis().FindBin(39.5))\n",
    "print Multdiff.Integral(Multdiff.GetXaxis().FindBin(40), Multdiff.GetXaxis().FindBin(1281))\n",
    "\n",
    "print \"\\nFractions: Mult_diff > 40\\n\"\n",
    "print Multdiff.Integral(Multdiff.GetXaxis().FindBin(40), Multdiff.GetXaxis().FindBin(1281))/Multdiff.Integral(Multdiff.GetXaxis().FindBin(0), Multdiff.GetXaxis().FindBin(1281))"
   ]
  },
  {
   "cell_type": "code",
   "execution_count": null,
   "metadata": {},
   "outputs": [],
   "source": []
  },
  {
   "cell_type": "code",
   "execution_count": null,
   "metadata": {},
   "outputs": [],
   "source": []
  }
 ],
 "metadata": {
  "kernelspec": {
   "display_name": "Python 2",
   "language": "python",
   "name": "python2"
  },
  "language_info": {
   "codemirror_mode": {
    "name": "ipython",
    "version": 2
   },
   "file_extension": ".py",
   "mimetype": "text/x-python",
   "name": "python",
   "nbconvert_exporter": "python",
   "pygments_lexer": "ipython2",
   "version": "2.7.14"
  }
 },
 "nbformat": 4,
 "nbformat_minor": 2
}
